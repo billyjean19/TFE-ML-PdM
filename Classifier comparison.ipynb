{
 "cells": [
  {
   "cell_type": "code",
   "execution_count": 1,
   "id": "d6bd29c4",
   "metadata": {},
   "outputs": [
    {
     "name": "stderr",
     "output_type": "stream",
     "text": [
      "/home/blimen/.local/lib/python3.8/site-packages/scipy/__init__.py:146: UserWarning: A NumPy version >=1.16.5 and <1.23.0 is required for this version of SciPy (detected version 1.24.4\n",
      "  warnings.warn(f\"A NumPy version >={np_minversion} and <{np_maxversion}\"\n"
     ]
    }
   ],
   "source": [
    "import numpy as np\n",
    "import pandas as pd\n",
    "import matplotlib.pyplot as plt\n",
    "from statistics import mean, mode, median\n",
    "import seaborn as sns\n",
    "from math import *\n",
    "\n",
    "from sklearn.preprocessing import StandardScaler\n",
    "from sklearn.preprocessing import LabelEncoder\n",
    "\n",
    "from sklearn.feature_selection import VarianceThreshold\n",
    "\n",
    "from sklearn.naive_bayes import GaussianNB\n",
    "from sklearn.tree import DecisionTreeClassifier\n",
    "from sklearn.svm import SVC\n",
    "from sklearn.ensemble import RandomForestClassifier\n",
    "from sklearn.neighbors import KNeighborsClassifier\n",
    "\n",
    "import tsfel\n",
    "\n",
    "from sklearn.model_selection import train_test_split, cross_val_score\n",
    "from sklearn.metrics import roc_curve, roc_auc_score, accuracy_score, precision_score, recall_score\n",
    "from imblearn.metrics import specificity_score\n",
    "from sklearn.metrics import confusion_matrix, ConfusionMatrixDisplay\n",
    "\n",
    "from sklearn.pipeline import Pipeline\n",
    "\n",
    "#%matplotlib notebook"
   ]
  },
  {
   "cell_type": "code",
   "execution_count": 2,
   "id": "30cdf12e",
   "metadata": {},
   "outputs": [],
   "source": [
    "# Samples from washing machine Beko\n",
    "batch_1 = pd.read_csv(\"Data Processing/Beko/cleaned_data_Beko_MQTT_2024-05-04_serviettes_1.csv\")\n",
    "batch_2 = pd.read_csv(\"Data Processing/Beko/cleaned_data_Beko_MQTT_2024-05-04_serviettes_2.csv\")\n",
    "batch_3 = pd.read_csv(\"Data Processing/Beko/cleaned_data_Beko_MQTT_2024-05-04_vide_1.csv\")\n",
    "batch_4 = pd.read_csv(\"Data Processing/Beko/cleaned_data_Beko_MQTT_2024-05-04_vide_2.csv\")\n",
    "\n",
    "# Samples from washing machine Whirlpool\n",
    "batch_5 = pd.read_csv(\"Data Processing/Whirlpool/cleaned_data_Whirlpool_MQTT_2024-05-06_serviettes_1.csv\")\n",
    "batch_6 = pd.read_csv(\"Data Processing/Whirlpool/cleaned_data_Whirlpool_MQTT_2024-05-06_serviettes_2.csv\")\n",
    "batch_7 = pd.read_csv(\"Data Processing/Whirlpool/cleaned_data_Whirlpool_MQTT_2024-05-06_vide_1.csv\")\n",
    "batch_8 = pd.read_csv(\"Data Processing/Whirlpool/cleaned_data_Whirlpool_MQTT_2024-05-06_vide_2.csv\")"
   ]
  },
  {
   "cell_type": "code",
   "execution_count": 3,
   "id": "a3865fd0",
   "metadata": {},
   "outputs": [
    {
     "name": "stderr",
     "output_type": "stream",
     "text": [
      "No artists with labels found to put in legend.  Note that artists whose label start with an underscore are ignored when legend() is called with no argument.\n"
     ]
    },
    {
     "data": {
      "image/png": "[encoded data removed]",
      "text/plain": [
       "<Figure size 864x432 with 1 Axes>"
      ]
     },
     "metadata": {
      "needs_background": "light"
     },
     "output_type": "display_data"
    }
   ],
   "source": [
    "batch_name = [\"Beko_empty_1\",\"Beko_empty_2\",\"Beko_towels_1\",\"Beko_towels_2\",\n",
    "              \"Whirlpool_empty_1\",\"Whirlpool_empty_2\",\"Whirlpool_towels_1\",\"Whirlpool_towels_2\"]\n",
    "batch_size = [batch_1.index.stop, batch_2.index.stop, batch_3.index.stop, batch_4.index.stop,\n",
    "             batch_5.index.stop, batch_6.index.stop, batch_7.index.stop, batch_8.index.stop]\n",
    "\n",
    "plt.figure(figsize=(12, 6))\n",
    "plt.bar(batch_name, batch_size, width = 0.6)\n",
    "plt.xticks(rotation=30, horizontalalignment=\"center\")\n",
    "plt.title('Number of samples per recording session')\n",
    "plt.xlabel('Session name')\n",
    "plt.ylabel('Number of samples')\n",
    "plt.legend()\n",
    "plt.savefig('Size_recordings.png')\n",
    "plt.show()"
   ]
  },
  {
   "cell_type": "markdown",
   "id": "4fcf0e4f",
   "metadata": {},
   "source": [
    "# Feature extraction"
   ]
  },
  {
   "cell_type": "code",
   "execution_count": 4,
   "id": "27986584",
   "metadata": {},
   "outputs": [],
   "source": [
    "def feature_extraction(batch, cfg_file, window_size, washing_name):\n",
    "    \n",
    "    # remove irrelevant features\n",
    "    batch = batch.drop(['index','washing_machine'], axis=1)\n",
    "    \n",
    "    # find frequency\n",
    "    Ts = batch['timestamp'].iloc[-1]/batch.index.stop\n",
    "    fs = floor(1 / Ts * 1000)\n",
    "    \n",
    "    # extract feature df\n",
    "    batch_extracted = tsfel.time_series_features_extractor(cfg_file, batch, fs=fs, window_size=window_size)\n",
    "    \n",
    "    return batch_extracted, len(batch_extracted) \n",
    "\n",
    "def create_dataframe(cfg, window_size):\n",
    "    \n",
    "    batch1, y1 = feature_extraction(batch_1, cfg, window_size=window_size, washing_name = batch_1.washing_machine[0])\n",
    "    batch2, y2 = feature_extraction(batch_2, cfg, window_size=window_size, washing_name = batch_2.washing_machine[0])\n",
    "    batch3, y3 = feature_extraction(batch_3, cfg, window_size=window_size, washing_name = batch_3.washing_machine[0])\n",
    "    batch5, y5 = feature_extraction(batch_5, cfg, window_size=window_size, washing_name = batch_5.washing_machine[0])\n",
    "    batch6, y6 = feature_extraction(batch_6, cfg, window_size=window_size, washing_name = batch_6.washing_machine[0])\n",
    "    batch8, y8 = feature_extraction(batch_8, cfg, window_size=window_size, washing_name = batch_8.washing_machine[0])\n",
    "    \n",
    "    # label encoding (convert labels in numerical values 0-> Beko and 1-> Whirlpool)\n",
    "    zeros_array = np.zeros(y1+y2+y3, dtype=int)\n",
    "    ones_array = np.ones(y5+y6+y8, dtype=int)\n",
    "        \n",
    "    df_train = pd.concat([batch1, batch2, batch3, batch5, batch6, batch8], ignore_index=True)\n",
    "    y_train = np.hstack((zeros_array, ones_array))\n",
    "    \n",
    "    return df_train, y_train\n",
    "\n",
    "def create_dataframe_validation(cfg, window_size, washing_name):\n",
    "    \n",
    "    if washing_name == 0:\n",
    "        df_validation, y = feature_extraction(batch_4, cfg, window_size=window_size, washing_name = batch_4.washing_machine[0])\n",
    "        y_train = np.zeros(y, dtype=int)\n",
    "    else:\n",
    "        df_validation, y = feature_extraction(batch_7, cfg, window_size=window_size, washing_name = batch_7.washing_machine[0])\n",
    "        y_train = np.ones(y, dtype=int)\n",
    "        \n",
    "    return df_validation, y_train"
   ]
  },
  {
   "cell_type": "code",
   "execution_count": 44,
   "id": "b976614f",
   "metadata": {},
   "outputs": [],
   "source": [
    "cfg = tsfel.get_features_by_domain()               # All features will be extracted.\n",
    "#cfg = tsfel.get_features_by_domain(\"statistical\")  # All statistical domain features will be extracted\n",
    "#cfg = tsfel.get_features_by_domain(\"temporal\")     # All temporal domain features will be extracted\n",
    "#cfg = tsfel.get_features_by_domain(\"spectral\")     # All spectral domain features will be extracted\n",
    "\n",
    "window_size = 100     # at a sampling rate of 100 Hz, it represents 1 sec of recording"
   ]
  },
  {
   "cell_type": "code",
   "execution_count": 45,
   "id": "a25b5315",
   "metadata": {},
   "outputs": [
    {
     "name": "stdout",
     "output_type": "stream",
     "text": [
      "*** Feature extraction started ***\n"
     ]
    },
    {
     "data": {
      "text/html": [
       "\n",
       "              <p>\n",
       "                  Progress: 100% Complete\n",
       "              <p/>\n",
       "              <progress\n",
       "                  value='1177'\n",
       "                  max='1177',\n",
       "                  style='width: 25%',\n",
       "              >\n",
       "                  1177\n",
       "              </progress>\n",
       "\n",
       "    "
      ],
      "text/plain": [
       "<IPython.core.display.HTML object>"
      ]
     },
     "metadata": {},
     "output_type": "display_data"
    },
    {
     "name": "stdout",
     "output_type": "stream",
     "text": [
      "\n",
      "*** Feature extraction finished ***\n",
      "*** Feature extraction started ***\n"
     ]
    },
    {
     "data": {
      "text/html": [
       "\n",
       "              <p>\n",
       "                  Progress: 100% Complete\n",
       "              <p/>\n",
       "              <progress\n",
       "                  value='1295'\n",
       "                  max='1295',\n",
       "                  style='width: 25%',\n",
       "              >\n",
       "                  1295\n",
       "              </progress>\n",
       "\n",
       "    "
      ],
      "text/plain": [
       "<IPython.core.display.HTML object>"
      ]
     },
     "metadata": {},
     "output_type": "display_data"
    },
    {
     "name": "stdout",
     "output_type": "stream",
     "text": [
      "\n",
      "*** Feature extraction finished ***\n",
      "*** Feature extraction started ***\n"
     ]
    },
    {
     "data": {
      "text/html": [
       "\n",
       "              <p>\n",
       "                  Progress: 100% Complete\n",
       "              <p/>\n",
       "              <progress\n",
       "                  value='1391'\n",
       "                  max='1391',\n",
       "                  style='width: 25%',\n",
       "              >\n",
       "                  1391\n",
       "              </progress>\n",
       "\n",
       "    "
      ],
      "text/plain": [
       "<IPython.core.display.HTML object>"
      ]
     },
     "metadata": {},
     "output_type": "display_data"
    },
    {
     "name": "stdout",
     "output_type": "stream",
     "text": [
      "\n",
      "*** Feature extraction finished ***\n",
      "*** Feature extraction started ***\n"
     ]
    },
    {
     "data": {
      "text/html": [
       "\n",
       "              <p>\n",
       "                  Progress: 100% Complete\n",
       "              <p/>\n",
       "              <progress\n",
       "                  value='1080'\n",
       "                  max='1080',\n",
       "                  style='width: 25%',\n",
       "              >\n",
       "                  1080\n",
       "              </progress>\n",
       "\n",
       "    "
      ],
      "text/plain": [
       "<IPython.core.display.HTML object>"
      ]
     },
     "metadata": {},
     "output_type": "display_data"
    },
    {
     "name": "stdout",
     "output_type": "stream",
     "text": [
      "\n",
      "*** Feature extraction finished ***\n",
      "*** Feature extraction started ***\n"
     ]
    },
    {
     "data": {
      "text/html": [
       "\n",
       "              <p>\n",
       "                  Progress: 100% Complete\n",
       "              <p/>\n",
       "              <progress\n",
       "                  value='960'\n",
       "                  max='960',\n",
       "                  style='width: 25%',\n",
       "              >\n",
       "                  960\n",
       "              </progress>\n",
       "\n",
       "    "
      ],
      "text/plain": [
       "<IPython.core.display.HTML object>"
      ]
     },
     "metadata": {},
     "output_type": "display_data"
    },
    {
     "name": "stdout",
     "output_type": "stream",
     "text": [
      "\n",
      "*** Feature extraction finished ***\n",
      "*** Feature extraction started ***\n"
     ]
    },
    {
     "data": {
      "text/html": [
       "\n",
       "              <p>\n",
       "                  Progress: 100% Complete\n",
       "              <p/>\n",
       "              <progress\n",
       "                  value='1051'\n",
       "                  max='1051',\n",
       "                  style='width: 25%',\n",
       "              >\n",
       "                  1051\n",
       "              </progress>\n",
       "\n",
       "    "
      ],
      "text/plain": [
       "<IPython.core.display.HTML object>"
      ]
     },
     "metadata": {},
     "output_type": "display_data"
    },
    {
     "name": "stdout",
     "output_type": "stream",
     "text": [
      "\n",
      "*** Feature extraction finished ***\n"
     ]
    }
   ],
   "source": [
    "df_train, y = create_dataframe(cfg, window_size)"
   ]
  },
  {
   "cell_type": "code",
   "execution_count": 46,
   "id": "18f6f47f",
   "metadata": {},
   "outputs": [
    {
     "data": {
      "text/html": [
       "<div>\n",
       "<style scoped>\n",
       "    .dataframe tbody tr th:only-of-type {\n",
       "        vertical-align: middle;\n",
       "    }\n",
       "\n",
       "    .dataframe tbody tr th {\n",
       "        vertical-align: top;\n",
       "    }\n",
       "\n",
       "    .dataframe thead th {\n",
       "        text-align: right;\n",
       "    }\n",
       "</style>\n",
       "<table border=\"1\" class=\"dataframe\">\n",
       "  <thead>\n",
       "    <tr style=\"text-align: right;\">\n",
       "      <th></th>\n",
       "      <th>ADXL345_accel_x_Absolute energy</th>\n",
       "      <th>ADXL345_accel_x_Area under the curve</th>\n",
       "      <th>ADXL345_accel_x_Autocorrelation</th>\n",
       "      <th>ADXL345_accel_x_Average power</th>\n",
       "      <th>ADXL345_accel_x_Centroid</th>\n",
       "      <th>ADXL345_accel_x_ECDF Percentile Count_0</th>\n",
       "      <th>ADXL345_accel_x_ECDF Percentile Count_1</th>\n",
       "      <th>ADXL345_accel_x_ECDF Percentile_0</th>\n",
       "      <th>ADXL345_accel_x_ECDF Percentile_1</th>\n",
       "      <th>ADXL345_accel_x_ECDF_0</th>\n",
       "      <th>...</th>\n",
       "      <th>timestamp_Wavelet variance_0</th>\n",
       "      <th>timestamp_Wavelet variance_1</th>\n",
       "      <th>timestamp_Wavelet variance_2</th>\n",
       "      <th>timestamp_Wavelet variance_3</th>\n",
       "      <th>timestamp_Wavelet variance_4</th>\n",
       "      <th>timestamp_Wavelet variance_5</th>\n",
       "      <th>timestamp_Wavelet variance_6</th>\n",
       "      <th>timestamp_Wavelet variance_7</th>\n",
       "      <th>timestamp_Wavelet variance_8</th>\n",
       "      <th>timestamp_Zero crossing rate</th>\n",
       "    </tr>\n",
       "  </thead>\n",
       "  <tbody>\n",
       "    <tr>\n",
       "      <th>0</th>\n",
       "      <td>37.009442</td>\n",
       "      <td>0.498284</td>\n",
       "      <td>1.0</td>\n",
       "      <td>41.495435</td>\n",
       "      <td>0.403308</td>\n",
       "      <td>20.0</td>\n",
       "      <td>80.0</td>\n",
       "      <td>-0.784532</td>\n",
       "      <td>-0.392266</td>\n",
       "      <td>0.01</td>\n",
       "      <td>...</td>\n",
       "      <td>1.365752e+05</td>\n",
       "      <td>5.063790e+05</td>\n",
       "      <td>1.098397e+06</td>\n",
       "      <td>1.885463e+06</td>\n",
       "      <td>2.846873e+06</td>\n",
       "      <td>3.954312e+06</td>\n",
       "      <td>5.142082e+06</td>\n",
       "      <td>6.288410e+06</td>\n",
       "      <td>7.274778e+06</td>\n",
       "      <td>0.0</td>\n",
       "    </tr>\n",
       "    <tr>\n",
       "      <th>1</th>\n",
       "      <td>38.043466</td>\n",
       "      <td>0.498637</td>\n",
       "      <td>1.0</td>\n",
       "      <td>42.654795</td>\n",
       "      <td>0.413231</td>\n",
       "      <td>20.0</td>\n",
       "      <td>80.0</td>\n",
       "      <td>-0.784532</td>\n",
       "      <td>-0.313813</td>\n",
       "      <td>0.01</td>\n",
       "      <td>...</td>\n",
       "      <td>2.215717e+05</td>\n",
       "      <td>7.626446e+05</td>\n",
       "      <td>1.601273e+06</td>\n",
       "      <td>2.681790e+06</td>\n",
       "      <td>3.949370e+06</td>\n",
       "      <td>5.349618e+06</td>\n",
       "      <td>6.828631e+06</td>\n",
       "      <td>8.332850e+06</td>\n",
       "      <td>9.808875e+06</td>\n",
       "      <td>0.0</td>\n",
       "    </tr>\n",
       "    <tr>\n",
       "      <th>2</th>\n",
       "      <td>36.012348</td>\n",
       "      <td>0.498991</td>\n",
       "      <td>1.0</td>\n",
       "      <td>40.377481</td>\n",
       "      <td>0.440996</td>\n",
       "      <td>20.0</td>\n",
       "      <td>80.0</td>\n",
       "      <td>-0.706079</td>\n",
       "      <td>-0.392266</td>\n",
       "      <td>0.01</td>\n",
       "      <td>...</td>\n",
       "      <td>2.845254e+05</td>\n",
       "      <td>9.788984e+05</td>\n",
       "      <td>2.053242e+06</td>\n",
       "      <td>3.434882e+06</td>\n",
       "      <td>5.056350e+06</td>\n",
       "      <td>6.849800e+06</td>\n",
       "      <td>8.745672e+06</td>\n",
       "      <td>1.067315e+07</td>\n",
       "      <td>1.256109e+07</td>\n",
       "      <td>0.0</td>\n",
       "    </tr>\n",
       "    <tr>\n",
       "      <th>3</th>\n",
       "      <td>46.137166</td>\n",
       "      <td>0.569316</td>\n",
       "      <td>1.0</td>\n",
       "      <td>51.729550</td>\n",
       "      <td>0.452920</td>\n",
       "      <td>20.0</td>\n",
       "      <td>80.0</td>\n",
       "      <td>-0.784532</td>\n",
       "      <td>-0.470719</td>\n",
       "      <td>0.01</td>\n",
       "      <td>...</td>\n",
       "      <td>3.549020e+05</td>\n",
       "      <td>1.221260e+06</td>\n",
       "      <td>2.562257e+06</td>\n",
       "      <td>4.289616e+06</td>\n",
       "      <td>6.316742e+06</td>\n",
       "      <td>8.556860e+06</td>\n",
       "      <td>1.092244e+07</td>\n",
       "      <td>1.332597e+07</td>\n",
       "      <td>1.568013e+07</td>\n",
       "      <td>0.0</td>\n",
       "    </tr>\n",
       "    <tr>\n",
       "      <th>4</th>\n",
       "      <td>41.299411</td>\n",
       "      <td>0.501464</td>\n",
       "      <td>1.0</td>\n",
       "      <td>46.305400</td>\n",
       "      <td>0.389326</td>\n",
       "      <td>20.0</td>\n",
       "      <td>80.0</td>\n",
       "      <td>-0.706079</td>\n",
       "      <td>-0.392266</td>\n",
       "      <td>0.01</td>\n",
       "      <td>...</td>\n",
       "      <td>4.331158e+05</td>\n",
       "      <td>1.490458e+06</td>\n",
       "      <td>3.126492e+06</td>\n",
       "      <td>5.232611e+06</td>\n",
       "      <td>7.703657e+06</td>\n",
       "      <td>1.043454e+07</td>\n",
       "      <td>1.331899e+07</td>\n",
       "      <td>1.625020e+07</td>\n",
       "      <td>1.912131e+07</td>\n",
       "      <td>0.0</td>\n",
       "    </tr>\n",
       "    <tr>\n",
       "      <th>...</th>\n",
       "      <td>...</td>\n",
       "      <td>...</td>\n",
       "      <td>...</td>\n",
       "      <td>...</td>\n",
       "      <td>...</td>\n",
       "      <td>...</td>\n",
       "      <td>...</td>\n",
       "      <td>...</td>\n",
       "      <td>...</td>\n",
       "      <td>...</td>\n",
       "      <td>...</td>\n",
       "      <td>...</td>\n",
       "      <td>...</td>\n",
       "      <td>...</td>\n",
       "      <td>...</td>\n",
       "      <td>...</td>\n",
       "      <td>...</td>\n",
       "      <td>...</td>\n",
       "      <td>...</td>\n",
       "      <td>...</td>\n",
       "      <td>...</td>\n",
       "    </tr>\n",
       "    <tr>\n",
       "      <th>6949</th>\n",
       "      <td>49.146914</td>\n",
       "      <td>0.672220</td>\n",
       "      <td>1.0</td>\n",
       "      <td>47.161180</td>\n",
       "      <td>0.503201</td>\n",
       "      <td>20.0</td>\n",
       "      <td>80.0</td>\n",
       "      <td>-0.862985</td>\n",
       "      <td>-0.392266</td>\n",
       "      <td>0.01</td>\n",
       "      <td>...</td>\n",
       "      <td>8.861003e+09</td>\n",
       "      <td>3.047635e+10</td>\n",
       "      <td>6.392098e+10</td>\n",
       "      <td>1.069641e+11</td>\n",
       "      <td>1.574107e+11</td>\n",
       "      <td>2.130732e+11</td>\n",
       "      <td>2.717655e+11</td>\n",
       "      <td>3.313025e+11</td>\n",
       "      <td>3.894994e+11</td>\n",
       "      <td>0.0</td>\n",
       "    </tr>\n",
       "    <tr>\n",
       "      <th>6950</th>\n",
       "      <td>40.597752</td>\n",
       "      <td>0.612761</td>\n",
       "      <td>1.0</td>\n",
       "      <td>38.957438</td>\n",
       "      <td>0.522939</td>\n",
       "      <td>20.0</td>\n",
       "      <td>80.0</td>\n",
       "      <td>-0.784532</td>\n",
       "      <td>-0.392266</td>\n",
       "      <td>0.01</td>\n",
       "      <td>...</td>\n",
       "      <td>8.874225e+09</td>\n",
       "      <td>3.052250e+10</td>\n",
       "      <td>6.401763e+10</td>\n",
       "      <td>1.071255e+11</td>\n",
       "      <td>1.576484e+11</td>\n",
       "      <td>2.133957e+11</td>\n",
       "      <td>2.721777e+11</td>\n",
       "      <td>3.318052e+11</td>\n",
       "      <td>3.900892e+11</td>\n",
       "      <td>0.0</td>\n",
       "    </tr>\n",
       "    <tr>\n",
       "      <th>6951</th>\n",
       "      <td>34.295129</td>\n",
       "      <td>0.552063</td>\n",
       "      <td>1.0</td>\n",
       "      <td>32.909467</td>\n",
       "      <td>0.487224</td>\n",
       "      <td>20.0</td>\n",
       "      <td>80.0</td>\n",
       "      <td>-0.706079</td>\n",
       "      <td>-0.313813</td>\n",
       "      <td>0.01</td>\n",
       "      <td>...</td>\n",
       "      <td>8.887275e+09</td>\n",
       "      <td>3.056697e+10</td>\n",
       "      <td>6.411086e+10</td>\n",
       "      <td>1.072815e+11</td>\n",
       "      <td>1.578777e+11</td>\n",
       "      <td>2.137057e+11</td>\n",
       "      <td>2.725725e+11</td>\n",
       "      <td>3.322861e+11</td>\n",
       "      <td>3.906543e+11</td>\n",
       "      <td>0.0</td>\n",
       "    </tr>\n",
       "    <tr>\n",
       "      <th>6952</th>\n",
       "      <td>34.990633</td>\n",
       "      <td>0.576012</td>\n",
       "      <td>1.0</td>\n",
       "      <td>33.576870</td>\n",
       "      <td>0.518417</td>\n",
       "      <td>20.0</td>\n",
       "      <td>80.0</td>\n",
       "      <td>-0.706079</td>\n",
       "      <td>-0.392266</td>\n",
       "      <td>0.01</td>\n",
       "      <td>...</td>\n",
       "      <td>8.900466e+09</td>\n",
       "      <td>3.061239e+10</td>\n",
       "      <td>6.420739e+10</td>\n",
       "      <td>1.074448e+11</td>\n",
       "      <td>1.581183e+11</td>\n",
       "      <td>2.140300e+11</td>\n",
       "      <td>2.729844e+11</td>\n",
       "      <td>3.327861e+11</td>\n",
       "      <td>3.912400e+11</td>\n",
       "      <td>0.0</td>\n",
       "    </tr>\n",
       "    <tr>\n",
       "      <th>6953</th>\n",
       "      <td>46.863445</td>\n",
       "      <td>0.632168</td>\n",
       "      <td>1.0</td>\n",
       "      <td>44.969973</td>\n",
       "      <td>0.467944</td>\n",
       "      <td>20.0</td>\n",
       "      <td>80.0</td>\n",
       "      <td>-0.784532</td>\n",
       "      <td>-0.392266</td>\n",
       "      <td>0.01</td>\n",
       "      <td>...</td>\n",
       "      <td>8.913661e+09</td>\n",
       "      <td>3.065748e+10</td>\n",
       "      <td>6.430077e+10</td>\n",
       "      <td>1.075997e+11</td>\n",
       "      <td>1.583461e+11</td>\n",
       "      <td>2.143395e+11</td>\n",
       "      <td>2.733807e+11</td>\n",
       "      <td>3.332711e+11</td>\n",
       "      <td>3.918120e+11</td>\n",
       "      <td>0.0</td>\n",
       "    </tr>\n",
       "  </tbody>\n",
       "</table>\n",
       "<p>6954 rows × 1656 columns</p>\n",
       "</div>"
      ],
      "text/plain": [
       "      ADXL345_accel_x_Absolute energy  ADXL345_accel_x_Area under the curve  \\\n",
       "0                           37.009442                              0.498284   \n",
       "1                           38.043466                              0.498637   \n",
       "2                           36.012348                              0.498991   \n",
       "3                           46.137166                              0.569316   \n",
       "4                           41.299411                              0.501464   \n",
       "...                               ...                                   ...   \n",
       "6949                        49.146914                              0.672220   \n",
       "6950                        40.597752                              0.612761   \n",
       "6951                        34.295129                              0.552063   \n",
       "6952                        34.990633                              0.576012   \n",
       "6953                        46.863445                              0.632168   \n",
       "\n",
       "      ADXL345_accel_x_Autocorrelation  ADXL345_accel_x_Average power  \\\n",
       "0                                 1.0                      41.495435   \n",
       "1                                 1.0                      42.654795   \n",
       "2                                 1.0                      40.377481   \n",
       "3                                 1.0                      51.729550   \n",
       "4                                 1.0                      46.305400   \n",
       "...                               ...                            ...   \n",
       "6949                              1.0                      47.161180   \n",
       "6950                              1.0                      38.957438   \n",
       "6951                              1.0                      32.909467   \n",
       "6952                              1.0                      33.576870   \n",
       "6953                              1.0                      44.969973   \n",
       "\n",
       "      ADXL345_accel_x_Centroid  ADXL345_accel_x_ECDF Percentile Count_0  \\\n",
       "0                     0.403308                                     20.0   \n",
       "1                     0.413231                                     20.0   \n",
       "2                     0.440996                                     20.0   \n",
       "3                     0.452920                                     20.0   \n",
       "4                     0.389326                                     20.0   \n",
       "...                        ...                                      ...   \n",
       "6949                  0.503201                                     20.0   \n",
       "6950                  0.522939                                     20.0   \n",
       "6951                  0.487224                                     20.0   \n",
       "6952                  0.518417                                     20.0   \n",
       "6953                  0.467944                                     20.0   \n",
       "\n",
       "      ADXL345_accel_x_ECDF Percentile Count_1  \\\n",
       "0                                        80.0   \n",
       "1                                        80.0   \n",
       "2                                        80.0   \n",
       "3                                        80.0   \n",
       "4                                        80.0   \n",
       "...                                       ...   \n",
       "6949                                     80.0   \n",
       "6950                                     80.0   \n",
       "6951                                     80.0   \n",
       "6952                                     80.0   \n",
       "6953                                     80.0   \n",
       "\n",
       "      ADXL345_accel_x_ECDF Percentile_0  ADXL345_accel_x_ECDF Percentile_1  \\\n",
       "0                             -0.784532                          -0.392266   \n",
       "1                             -0.784532                          -0.313813   \n",
       "2                             -0.706079                          -0.392266   \n",
       "3                             -0.784532                          -0.470719   \n",
       "4                             -0.706079                          -0.392266   \n",
       "...                                 ...                                ...   \n",
       "6949                          -0.862985                          -0.392266   \n",
       "6950                          -0.784532                          -0.392266   \n",
       "6951                          -0.706079                          -0.313813   \n",
       "6952                          -0.706079                          -0.392266   \n",
       "6953                          -0.784532                          -0.392266   \n",
       "\n",
       "      ADXL345_accel_x_ECDF_0  ...  timestamp_Wavelet variance_0  \\\n",
       "0                       0.01  ...                  1.365752e+05   \n",
       "1                       0.01  ...                  2.215717e+05   \n",
       "2                       0.01  ...                  2.845254e+05   \n",
       "3                       0.01  ...                  3.549020e+05   \n",
       "4                       0.01  ...                  4.331158e+05   \n",
       "...                      ...  ...                           ...   \n",
       "6949                    0.01  ...                  8.861003e+09   \n",
       "6950                    0.01  ...                  8.874225e+09   \n",
       "6951                    0.01  ...                  8.887275e+09   \n",
       "6952                    0.01  ...                  8.900466e+09   \n",
       "6953                    0.01  ...                  8.913661e+09   \n",
       "\n",
       "      timestamp_Wavelet variance_1  timestamp_Wavelet variance_2  \\\n",
       "0                     5.063790e+05                  1.098397e+06   \n",
       "1                     7.626446e+05                  1.601273e+06   \n",
       "2                     9.788984e+05                  2.053242e+06   \n",
       "3                     1.221260e+06                  2.562257e+06   \n",
       "4                     1.490458e+06                  3.126492e+06   \n",
       "...                            ...                           ...   \n",
       "6949                  3.047635e+10                  6.392098e+10   \n",
       "6950                  3.052250e+10                  6.401763e+10   \n",
       "6951                  3.056697e+10                  6.411086e+10   \n",
       "6952                  3.061239e+10                  6.420739e+10   \n",
       "6953                  3.065748e+10                  6.430077e+10   \n",
       "\n",
       "      timestamp_Wavelet variance_3  timestamp_Wavelet variance_4  \\\n",
       "0                     1.885463e+06                  2.846873e+06   \n",
       "1                     2.681790e+06                  3.949370e+06   \n",
       "2                     3.434882e+06                  5.056350e+06   \n",
       "3                     4.289616e+06                  6.316742e+06   \n",
       "4                     5.232611e+06                  7.703657e+06   \n",
       "...                            ...                           ...   \n",
       "6949                  1.069641e+11                  1.574107e+11   \n",
       "6950                  1.071255e+11                  1.576484e+11   \n",
       "6951                  1.072815e+11                  1.578777e+11   \n",
       "6952                  1.074448e+11                  1.581183e+11   \n",
       "6953                  1.075997e+11                  1.583461e+11   \n",
       "\n",
       "      timestamp_Wavelet variance_5  timestamp_Wavelet variance_6  \\\n",
       "0                     3.954312e+06                  5.142082e+06   \n",
       "1                     5.349618e+06                  6.828631e+06   \n",
       "2                     6.849800e+06                  8.745672e+06   \n",
       "3                     8.556860e+06                  1.092244e+07   \n",
       "4                     1.043454e+07                  1.331899e+07   \n",
       "...                            ...                           ...   \n",
       "6949                  2.130732e+11                  2.717655e+11   \n",
       "6950                  2.133957e+11                  2.721777e+11   \n",
       "6951                  2.137057e+11                  2.725725e+11   \n",
       "6952                  2.140300e+11                  2.729844e+11   \n",
       "6953                  2.143395e+11                  2.733807e+11   \n",
       "\n",
       "      timestamp_Wavelet variance_7  timestamp_Wavelet variance_8  \\\n",
       "0                     6.288410e+06                  7.274778e+06   \n",
       "1                     8.332850e+06                  9.808875e+06   \n",
       "2                     1.067315e+07                  1.256109e+07   \n",
       "3                     1.332597e+07                  1.568013e+07   \n",
       "4                     1.625020e+07                  1.912131e+07   \n",
       "...                            ...                           ...   \n",
       "6949                  3.313025e+11                  3.894994e+11   \n",
       "6950                  3.318052e+11                  3.900892e+11   \n",
       "6951                  3.322861e+11                  3.906543e+11   \n",
       "6952                  3.327861e+11                  3.912400e+11   \n",
       "6953                  3.332711e+11                  3.918120e+11   \n",
       "\n",
       "      timestamp_Zero crossing rate  \n",
       "0                              0.0  \n",
       "1                              0.0  \n",
       "2                              0.0  \n",
       "3                              0.0  \n",
       "4                              0.0  \n",
       "...                            ...  \n",
       "6949                           0.0  \n",
       "6950                           0.0  \n",
       "6951                           0.0  \n",
       "6952                           0.0  \n",
       "6953                           0.0  \n",
       "\n",
       "[6954 rows x 1656 columns]"
      ]
     },
     "execution_count": 46,
     "metadata": {},
     "output_type": "execute_result"
    }
   ],
   "source": [
    "#len(df_train)\n",
    "df_train"
   ]
  },
  {
   "cell_type": "code",
   "execution_count": 47,
   "id": "dd7c0f09",
   "metadata": {},
   "outputs": [
    {
     "data": {
      "text/plain": [
       "array([0, 0, 0, ..., 1, 1, 1])"
      ]
     },
     "execution_count": 47,
     "metadata": {},
     "output_type": "execute_result"
    }
   ],
   "source": [
    "y"
   ]
  },
  {
   "cell_type": "code",
   "execution_count": 48,
   "id": "81c3a683",
   "metadata": {},
   "outputs": [],
   "source": [
    "# split train & validation -> 80% training /20% testing\n",
    "X_train, X_test, y_train, y_test = train_test_split(df_train, y, test_size = 0.20, random_state = 0)"
   ]
  },
  {
   "cell_type": "code",
   "execution_count": 49,
   "id": "2967d144",
   "metadata": {},
   "outputs": [],
   "source": [
    "# Scaling & preprocessing\n",
    "scaler = StandardScaler()\n",
    "X_train = scaler.fit_transform(X_train)\n",
    "X_test = scaler.transform(X_test)"
   ]
  },
  {
   "cell_type": "code",
   "execution_count": 50,
   "id": "bfc5c0aa",
   "metadata": {},
   "outputs": [
    {
     "data": {
      "text/plain": [
       "((5563, 1656), (5563,))"
      ]
     },
     "execution_count": 50,
     "metadata": {},
     "output_type": "execute_result"
    }
   ],
   "source": [
    "# Check for dimensions\n",
    "X_train.shape, y_train.shape"
   ]
  },
  {
   "cell_type": "code",
   "execution_count": 51,
   "id": "59d37a52",
   "metadata": {},
   "outputs": [
    {
     "data": {
      "text/plain": [
       "((1391, 1656), (1391,))"
      ]
     },
     "execution_count": 51,
     "metadata": {},
     "output_type": "execute_result"
    }
   ],
   "source": [
    "# Check for dimensions\n",
    "X_test.shape, y_test.shape"
   ]
  },
  {
   "cell_type": "code",
   "execution_count": 52,
   "id": "411ff9c2",
   "metadata": {},
   "outputs": [],
   "source": [
    "# Define pipeline \n",
    "classifiers = {\n",
    "    \"SVM\": SVC(),\n",
    "    \"Decision Tree\": DecisionTreeClassifier(),     # \"Random Forest\": RandomForestClassifier(),\n",
    "    \"Naive Bayes\": GaussianNB(),\n",
    "    \"KNN\": KNeighborsClassifier(n_neighbors=9)\n",
    "}\n",
    "\n",
    "metrics = {\n",
    "    \"Classifier\": [],\n",
    "    \"Accuracy\": [],\n",
    "    \"Recall\": [],\n",
    "    \"Precision\": []\n",
    "}\n",
    "\n",
    "confusion_matrices = {}"
   ]
  },
  {
   "cell_type": "code",
   "execution_count": 53,
   "id": "e483a393",
   "metadata": {},
   "outputs": [],
   "source": [
    "for name, clf in classifiers.items():\n",
    "    clf.fit(X_train, y_train)\n",
    "    y_pred = clf.predict(X_test)\n",
    "    \n",
    "    accuracy = accuracy_score(y_test, y_pred)\n",
    "    recall = recall_score(y_test, y_pred, average='binary')\n",
    "    precision = precision_score(y_test, y_pred, average='binary')\n",
    "    \n",
    "    metrics[\"Classifier\"].append(name)\n",
    "    metrics[\"Accuracy\"].append(accuracy)\n",
    "    metrics[\"Recall\"].append(recall)\n",
    "    metrics[\"Precision\"].append(precision)\n",
    "    \n",
    "    confusion_matrices[name] = confusion_matrix(y_test, y_pred, labels=clf.classes_)\n"
   ]
  },
  {
   "cell_type": "code",
   "execution_count": 54,
   "id": "417a9dd8",
   "metadata": {},
   "outputs": [
    {
     "name": "stdout",
     "output_type": "stream",
     "text": [
      "      Classifier  Accuracy   Recall  Precision\n",
      "0            SVM  1.000000  1.00000   1.000000\n",
      "1  Decision Tree  1.000000  1.00000   1.000000\n",
      "2    Naive Bayes  0.672897  0.27476   0.994220\n",
      "3            KNN  0.998562  1.00000   0.996815\n"
     ]
    }
   ],
   "source": [
    "# print metrics\n",
    "metrics_df = pd.DataFrame(metrics)\n",
    "print(metrics_df)"
   ]
  },
  {
   "cell_type": "code",
   "execution_count": 55,
   "id": "a5d44521",
   "metadata": {},
   "outputs": [
    {
     "data": {
      "image/png": "[encoded data removed]",
      "text/plain": [
       "<Figure size 720x432 with 1 Axes>"
      ]
     },
     "metadata": {
      "needs_background": "light"
     },
     "output_type": "display_data"
    }
   ],
   "source": [
    "# Grouped bar plot for accuracy, precision, and recall\n",
    "metrics_df.set_index(\"Classifier\", inplace=True)\n",
    "metrics_df.plot(kind='bar', figsize=(10, 6))\n",
    "#plt.title(\"Classifier Performance Comparison (all features)\")\n",
    "#plt.title(\"Classifier Performance Comparison (statistical features)\")\n",
    "#plt.title(\"Classifier Performance Comparison (temporal features)\")\n",
    "#plt.title(\"Classifier Performance Comparison (spectral features)\")\n",
    "plt.ylabel(\"Score\")\n",
    "plt.ylim(0, 1)\n",
    "plt.xticks(rotation=45)\n",
    "#plt.savefig('Classifier_Performance_all.png')\n",
    "#plt.savefig('Classifier_Performance_statistical.png')\n",
    "#plt.savefig('Classifier_Performance_temporal.png')\n",
    "#plt.savefig('Classifier_Performance_spectral.png')\n",
    "plt.show()\n"
   ]
  },
  {
   "cell_type": "code",
   "execution_count": 56,
   "id": "d2bb5f45",
   "metadata": {},
   "outputs": [
    {
     "data": {
      "image/png": "[encoded data removed]",
      "text/plain": [
       "<Figure size 864x720 with 8 Axes>"
      ]
     },
     "metadata": {
      "needs_background": "light"
     },
     "output_type": "display_data"
    }
   ],
   "source": [
    "# Plot confusion matrices\n",
    "fig, axes = plt.subplots(2, 2, figsize=(12, 10))\n",
    "\n",
    "for ax, (name, matrix) in zip(axes.flatten(), confusion_matrices.items()):\n",
    "    disp = ConfusionMatrixDisplay(confusion_matrix=matrix)\n",
    "    disp.plot(ax=ax, cmap='viridis')\n",
    "    ax.title.set_text(name)\n",
    "\n",
    "plt.tight_layout()\n",
    "#plt.savefig(\"Confusion_matrices_all.png\")\n",
    "#plt.savefig(\"Confusion_matrices_statistical.png\")\n",
    "#plt.savefig(\"Confusion_matrices_temporal.png\")\n",
    "#plt.savefig(\"Confusion_matrices_spectral.png\")\n",
    "plt.show()"
   ]
  },
  {
   "cell_type": "markdown",
   "id": "32259d9b",
   "metadata": {},
   "source": [
    "# Test on new dataset from Whirlpool\n",
    "Note: Label associated to this washing machine is '1'"
   ]
  },
  {
   "cell_type": "code",
   "execution_count": 73,
   "id": "37b20b72",
   "metadata": {},
   "outputs": [
    {
     "name": "stdout",
     "output_type": "stream",
     "text": [
      "*** Feature extraction started ***\n"
     ]
    },
    {
     "data": {
      "text/html": [
       "\n",
       "              <p>\n",
       "                  Progress: 100% Complete\n",
       "              <p/>\n",
       "              <progress\n",
       "                  value='677'\n",
       "                  max='677',\n",
       "                  style='width: 25%',\n",
       "              >\n",
       "                  677\n",
       "              </progress>\n",
       "\n",
       "    "
      ],
      "text/plain": [
       "<IPython.core.display.HTML object>"
      ]
     },
     "metadata": {},
     "output_type": "display_data"
    },
    {
     "name": "stdout",
     "output_type": "stream",
     "text": [
      "\n",
      "*** Feature extraction finished ***\n"
     ]
    }
   ],
   "source": [
    "df_val, y_val = create_dataframe_validation(cfg, window_size, 1)"
   ]
  },
  {
   "cell_type": "code",
   "execution_count": 74,
   "id": "f7acb78b",
   "metadata": {},
   "outputs": [],
   "source": [
    "# Scaling & preprocessing\n",
    "scaler = StandardScaler()\n",
    "X_val = scaler.fit_transform(df_val)"
   ]
  },
  {
   "cell_type": "code",
   "execution_count": 75,
   "id": "3c822d70",
   "metadata": {},
   "outputs": [],
   "source": [
    "validation_metrics = {\n",
    "    \"Classifier\": [],\n",
    "    \"Accuracy\": [],\n",
    "    \"Recall\": []\n",
    "}\n",
    "\n",
    "validation_confusion_matrices = {}"
   ]
  },
  {
   "cell_type": "code",
   "execution_count": 76,
   "id": "46e1163d",
   "metadata": {},
   "outputs": [],
   "source": [
    "for name, clf in classifiers.items():\n",
    "    y_val_pred = clf.predict(X_val)\n",
    "    \n",
    "    val_accuracy = accuracy_score(y_val, y_val_pred)\n",
    "    val_precision = precision_score(y_val, y_val_pred, average='binary')\n",
    "    val_recall = recall_score(y_val, y_val_pred, average='binary')\n",
    "    \n",
    "    validation_metrics[\"Classifier\"].append(name)\n",
    "    validation_metrics[\"Accuracy\"].append(val_accuracy)\n",
    "    validation_metrics[\"Recall\"].append(val_recall)\n",
    "    \n",
    "    validation_confusion_matrices[name] = confusion_matrix(y_val, y_val_pred, labels=clf.classes_)\n"
   ]
  },
  {
   "cell_type": "code",
   "execution_count": 77,
   "id": "ff42dc07",
   "metadata": {},
   "outputs": [
    {
     "name": "stdout",
     "output_type": "stream",
     "text": [
      "      Classifier  Accuracy    Recall\n",
      "0            SVM  0.398818  0.398818\n",
      "1  Decision Tree  0.503693  0.503693\n",
      "2    Naive Bayes  0.610044  0.610044\n",
      "3            KNN  0.838996  0.838996\n"
     ]
    }
   ],
   "source": [
    "validation_metrics_df = pd.DataFrame(validation_metrics)\n",
    "print(validation_metrics_df)"
   ]
  },
  {
   "cell_type": "code",
   "execution_count": 78,
   "id": "7ce02a66",
   "metadata": {},
   "outputs": [
    {
     "data": {
      "image/png": "[encoded data removed]",
      "text/plain": [
       "<Figure size 720x432 with 1 Axes>"
      ]
     },
     "metadata": {
      "needs_background": "light"
     },
     "output_type": "display_data"
    }
   ],
   "source": [
    "# Grouped bar plot for validation accuracy, precision, and recall\n",
    "validation_metrics_df.set_index(\"Classifier\", inplace=True)\n",
    "validation_metrics_plot = validation_metrics_df.plot(kind='bar', figsize=(10, 6))\n",
    "plt.title(\"Classifier Validation on Whirlpool dataset\")\n",
    "plt.ylabel(\"Score\")\n",
    "plt.ylim(0, 1)\n",
    "plt.xticks(rotation=45)\n",
    "plt.legend(loc='upper right')\n",
    "plt.savefig('Classifier_Performance_Whirlpool.png')\n",
    "plt.show()"
   ]
  },
  {
   "cell_type": "code",
   "execution_count": 79,
   "id": "92979ef3",
   "metadata": {},
   "outputs": [
    {
     "data": {
      "image/png": "[encoded data removed]",
      "text/plain": [
       "<Figure size 864x720 with 8 Axes>"
      ]
     },
     "metadata": {
      "needs_background": "light"
     },
     "output_type": "display_data"
    }
   ],
   "source": [
    "fig, axes = plt.subplots(2, 2, figsize=(12, 10))\n",
    "\n",
    "for ax, (name, matrix) in zip(axes.flatten(), validation_confusion_matrices.items()):\n",
    "    disp = ConfusionMatrixDisplay(confusion_matrix=matrix)\n",
    "    disp.plot(ax=ax, cmap='viridis')\n",
    "    ax.title.set_text(name)\n",
    "    \n",
    "plt.tight_layout()\n",
    "plt.savefig(\"Confusion_matrices_validation_W.png\")\n",
    "plt.show()"
   ]
  },
  {
   "cell_type": "markdown",
   "id": "59b3479e",
   "metadata": {},
   "source": [
    "# Test on new dataset from Beko\n",
    "Note: Label associated to this washing machine is '0'"
   ]
  },
  {
   "cell_type": "code",
   "execution_count": 80,
   "id": "1badb06f",
   "metadata": {},
   "outputs": [
    {
     "name": "stdout",
     "output_type": "stream",
     "text": [
      "*** Feature extraction started ***\n"
     ]
    },
    {
     "data": {
      "text/html": [
       "\n",
       "              <p>\n",
       "                  Progress: 100% Complete\n",
       "              <p/>\n",
       "              <progress\n",
       "                  value='955'\n",
       "                  max='955',\n",
       "                  style='width: 25%',\n",
       "              >\n",
       "                  955\n",
       "              </progress>\n",
       "\n",
       "    "
      ],
      "text/plain": [
       "<IPython.core.display.HTML object>"
      ]
     },
     "metadata": {},
     "output_type": "display_data"
    },
    {
     "name": "stdout",
     "output_type": "stream",
     "text": [
      "\n",
      "*** Feature extraction finished ***\n"
     ]
    }
   ],
   "source": [
    "df_val, y_val = create_dataframe_validation(cfg, window_size, 0)"
   ]
  },
  {
   "cell_type": "code",
   "execution_count": 81,
   "id": "e99475cb",
   "metadata": {},
   "outputs": [],
   "source": [
    "# Scaling & preprocessing\n",
    "scaler = StandardScaler()\n",
    "X_val = scaler.fit_transform(df_val)"
   ]
  },
  {
   "cell_type": "code",
   "execution_count": 82,
   "id": "02695df3",
   "metadata": {},
   "outputs": [],
   "source": [
    "validation_metrics = {\n",
    "    \"Classifier\": [],\n",
    "    \"Accuracy\": [],\n",
    "    \"Specificity\": []\n",
    "}\n",
    "\n",
    "validation_confusion_matrices = {}"
   ]
  },
  {
   "cell_type": "code",
   "execution_count": 83,
   "id": "62283270",
   "metadata": {},
   "outputs": [],
   "source": [
    "for name, clf in classifiers.items():\n",
    "    y_val_pred = clf.predict(X_val)\n",
    "    \n",
    "    val_accuracy = accuracy_score(y_val, y_val_pred)\n",
    "    val_specificity = specificity_score(y_val, y_val_pred, average='binary')\n",
    "    \n",
    "    validation_metrics[\"Classifier\"].append(name)\n",
    "    validation_metrics[\"Accuracy\"].append(val_accuracy)\n",
    "    validation_metrics[\"Specificity\"].append(val_specificity)\n",
    "    \n",
    "    validation_confusion_matrices[name] = confusion_matrix(y_val, y_val_pred, labels=clf.classes_)\n"
   ]
  },
  {
   "cell_type": "code",
   "execution_count": 84,
   "id": "5a4251c9",
   "metadata": {},
   "outputs": [
    {
     "name": "stdout",
     "output_type": "stream",
     "text": [
      "      Classifier  Accuracy  Specificity\n",
      "0            SVM  0.715183     0.715183\n",
      "1  Decision Tree  0.554974     0.554974\n",
      "2    Naive Bayes  0.873298     0.873298\n",
      "3            KNN  0.869110     0.869110\n"
     ]
    }
   ],
   "source": [
    "validation_metrics_df = pd.DataFrame(validation_metrics)\n",
    "print(validation_metrics_df)"
   ]
  },
  {
   "cell_type": "code",
   "execution_count": 85,
   "id": "e9135da5",
   "metadata": {},
   "outputs": [
    {
     "data": {
      "image/png": "[encoded data removed]",
      "text/plain": [
       "<Figure size 720x432 with 1 Axes>"
      ]
     },
     "metadata": {
      "needs_background": "light"
     },
     "output_type": "display_data"
    }
   ],
   "source": [
    "# Grouped bar plot for validation accuracy, precision, and recall\n",
    "validation_metrics_df.set_index(\"Classifier\", inplace=True)\n",
    "validation_metrics_plot = validation_metrics_df.plot(kind='bar', figsize=(10, 6))\n",
    "plt.title(\"Classifier Validation on Beko dataset\")\n",
    "plt.ylabel(\"Score\")\n",
    "plt.ylim(0, 1)\n",
    "plt.xticks(rotation=45)\n",
    "plt.legend(loc='upper right')\n",
    "plt.savefig('Classifier_Performance_Beko.png')\n",
    "plt.show()"
   ]
  },
  {
   "cell_type": "code",
   "execution_count": 86,
   "id": "91ebf2e6",
   "metadata": {},
   "outputs": [
    {
     "data": {
      "image/png": "[encoded data removed]",
      "text/plain": [
       "<Figure size 864x720 with 8 Axes>"
      ]
     },
     "metadata": {
      "needs_background": "light"
     },
     "output_type": "display_data"
    }
   ],
   "source": [
    "fig, axes = plt.subplots(2, 2, figsize=(12, 10))\n",
    "\n",
    "for ax, (name, matrix) in zip(axes.flatten(), validation_confusion_matrices.items()):\n",
    "    disp = ConfusionMatrixDisplay(confusion_matrix=matrix)\n",
    "    disp.plot(ax=ax, cmap='viridis')\n",
    "    ax.title.set_text(name)\n",
    "    \n",
    "plt.tight_layout()\n",
    "plt.savefig(\"Confusion_matrices_validation_B.png\")\n",
    "plt.show()"
   ]
  },
  {
   "cell_type": "markdown",
   "id": "ad42c600",
   "metadata": {},
   "source": [
    "# Sources\n",
    "Tsfel:\n",
    "- https://github.com/fraunhoferportugal/tsfel/blob/master/notebooks/TSFEL_SMARTWATCH_HAR_Example.ipynb\n",
    "- https://tsfel.readthedocs.io/en/latest/descriptions/feature_list.html\n",
    "\n",
    "Confusion matrix:\n",
    "- https://accessibleai.dev/post/interpreting_confusion_matrixes/\n",
    "\n"
   ]
  },
  {
   "cell_type": "code",
   "execution_count": null,
   "id": "15ccf083",
   "metadata": {},
   "outputs": [],
   "source": []
  }
 ],
 "metadata": {
  "kernelspec": {
   "display_name": "Python 3 (ipykernel)",
   "language": "python",
   "name": "python3"
  },
  "language_info": {
   "codemirror_mode": {
    "name": "ipython",
    "version": 3
   },
   "file_extension": ".py",
   "mimetype": "text/x-python",
   "name": "python",
   "nbconvert_exporter": "python",
   "pygments_lexer": "ipython3",
   "version": "3.8.10"
  }
 },
 "nbformat": 4,
 "nbformat_minor": 5
}
