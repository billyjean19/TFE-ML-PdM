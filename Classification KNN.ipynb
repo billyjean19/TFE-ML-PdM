{
 "cells": [
  {
   "cell_type": "code",
   "execution_count": 1,
   "id": "d6bd29c4",
   "metadata": {},
   "outputs": [
    {
     "name": "stderr",
     "output_type": "stream",
     "text": [
      "/home/blimen/.local/lib/python3.8/site-packages/scipy/__init__.py:146: UserWarning: A NumPy version >=1.16.5 and <1.23.0 is required for this version of SciPy (detected version 1.24.4\n",
      "  warnings.warn(f\"A NumPy version >={np_minversion} and <{np_maxversion}\"\n"
     ]
    }
   ],
   "source": [
    "import numpy as np\n",
    "import pandas as pd\n",
    "import matplotlib.pyplot as plt\n",
    "from statistics import mean, mode, median\n",
    "import seaborn as sns\n",
    "\n",
    "from sklearn.preprocessing import StandardScaler\n",
    "from sklearn.preprocessing import LabelEncoder\n",
    "\n",
    "from sklearn.neighbors import KNeighborsClassifier\n",
    "\n",
    "from sklearn.model_selection import train_test_split, cross_val_score\n",
    "from sklearn.metrics import roc_curve, roc_auc_score, accuracy_score, precision_score, recall_score\n",
    "from sklearn.metrics import confusion_matrix, ConfusionMatrixDisplay\n",
    "\n",
    "from sklearn.pipeline import Pipeline\n",
    "\n",
    "#%matplotlib notebook"
   ]
  },
  {
   "cell_type": "markdown",
   "id": "d2eee537",
   "metadata": {},
   "source": [
    "# 2. Exploratory Data Analysis (EDA)"
   ]
  },
  {
   "cell_type": "markdown",
   "id": "531262b5",
   "metadata": {},
   "source": [
    "**TODO:** Create first train, labels and test csv files based on series of sensor.csv files and add other features mean, std, p2p, etc. (check Mieszko's thesis)"
   ]
  },
  {
   "cell_type": "code",
   "execution_count": 2,
   "id": "30cdf12e",
   "metadata": {},
   "outputs": [],
   "source": [
    "# Samples from washing machine Beko\n",
    "batch_1 = pd.read_csv(\"Data Processing/Beko/cleaned_data_Beko_MQTT_2024-05-04_serviettes_1.csv\")\n",
    "batch_2 = pd.read_csv(\"Data Processing/Beko/cleaned_data_Beko_MQTT_2024-05-04_serviettes_2.csv\")\n",
    "batch_3 = pd.read_csv(\"Data Processing/Beko/cleaned_data_Beko_MQTT_2024-05-04_vide_1.csv\")\n",
    "batch_4 = pd.read_csv(\"Data Processing/Beko/cleaned_data_Beko_MQTT_2024-05-04_vide_2.csv\")\n",
    "\n",
    "# Samples from washing machine Whirlpool\n",
    "batch_5 = pd.read_csv(\"Data Processing/Whirlpool/cleaned_data_Whirlpool_MQTT_2024-05-06_serviettes_1.csv\")\n",
    "batch_6 = pd.read_csv(\"Data Processing/Whirlpool/cleaned_data_Whirlpool_MQTT_2024-05-06_serviettes_2.csv\")\n",
    "batch_7 = pd.read_csv(\"Data Processing/Whirlpool/cleaned_data_Whirlpool_MQTT_2024-05-06_vide_1.csv\")\n",
    "batch_8 = pd.read_csv(\"Data Processing/Whirlpool/cleaned_data_Whirlpool_MQTT_2024-05-06_vide_2.csv\")"
   ]
  },
  {
   "cell_type": "code",
   "execution_count": 3,
   "id": "a3865fd0",
   "metadata": {},
   "outputs": [
    {
     "name": "stderr",
     "output_type": "stream",
     "text": [
      "No artists with labels found to put in legend.  Note that artists whose label start with an underscore are ignored when legend() is called with no argument.\n"
     ]
    },
    {
     "data": {
      "image/png": "[encoded data removed]",
      "text/plain": [
       "<Figure size 864x432 with 1 Axes>"
      ]
     },
     "metadata": {
      "needs_background": "light"
     },
     "output_type": "display_data"
    }
   ],
   "source": [
    "batch_name = [\"Beko_empty_1\",\"Beko_empty_2\",\"Beko_towels_1\",\"Beko_towels_2\",\n",
    "              \"Whirlpool_empty_1\",\"Whirlpool_empty_2\",\"Whirlpool_towels_1\",\"Whirlpool_towels_2\"]\n",
    "batch_size = [batch_1.index.stop, batch_2.index.stop, batch_3.index.stop, batch_4.index.stop,\n",
    "             batch_5.index.stop, batch_6.index.stop, batch_7.index.stop, batch_8.index.stop]\n",
    "\n",
    "plt.figure(figsize=(12, 6))\n",
    "plt.bar(batch_name, batch_size, width = 0.6)\n",
    "plt.xticks(rotation=30, horizontalalignment=\"center\")\n",
    "plt.title('Number of samples per recording session')\n",
    "plt.xlabel('Session name')\n",
    "plt.ylabel('Number of samples')\n",
    "plt.legend()\n",
    "plt.show()"
   ]
  },
  {
   "cell_type": "code",
   "execution_count": 4,
   "id": "81c3a683",
   "metadata": {},
   "outputs": [],
   "source": [
    "# Init test and train \n",
    "df_train = pd.concat([batch_1, batch_2, batch_3, batch_5, batch_6, batch_8], axis=0)\n",
    "df_validation = pd.concat([batch_4, batch_7], axis=0)\n",
    "\n",
    "# drop unrelevant columns\n",
    "df_train = df_train.drop(['index'], axis=1)\n",
    "df_validation = df_validation.drop(['index'], axis=1)"
   ]
  },
  {
   "cell_type": "markdown",
   "id": "3b034044",
   "metadata": {},
   "source": [
    "# 3. Feature engineering"
   ]
  },
  {
   "cell_type": "code",
   "execution_count": 5,
   "id": "a87c96e3",
   "metadata": {},
   "outputs": [
    {
     "data": {
      "text/plain": [
       "0         0\n",
       "1         0\n",
       "2         0\n",
       "3         0\n",
       "4         0\n",
       "         ..\n",
       "105152    1\n",
       "105153    1\n",
       "105154    1\n",
       "105155    1\n",
       "105156    1\n",
       "Name: washing_machine, Length: 695760, dtype: int64"
      ]
     },
     "execution_count": 5,
     "metadata": {},
     "output_type": "execute_result"
    }
   ],
   "source": [
    "# label encoding (convert labels in numerical values 0-> Beko and 1-> Whirlpool)\n",
    "le = LabelEncoder()\n",
    "df_train['washing_machine'] = le.fit_transform(df_train['washing_machine'])\n",
    "df_train['washing_machine']"
   ]
  },
  {
   "cell_type": "code",
   "execution_count": 6,
   "id": "2732cdb5",
   "metadata": {},
   "outputs": [],
   "source": [
    "# split dataset to X and Y variables\n",
    "X = df_train.iloc[:, [0, 1, 2, 3, 4, 5, 6, 7, 8]].values     # Work with the all dataset\n",
    "#X = df_train.iloc[:, [0, 4, 8]].values                      # Work only with magnitude                 \n",
    "y = df_train.iloc[:, -1].values"
   ]
  },
  {
   "cell_type": "code",
   "execution_count": 7,
   "id": "e1e402f9",
   "metadata": {},
   "outputs": [
    {
     "data": {
      "text/plain": [
       "array([0, 0, 0, ..., 1, 1, 1])"
      ]
     },
     "execution_count": 7,
     "metadata": {},
     "output_type": "execute_result"
    }
   ],
   "source": [
    "# visualize headers and tails \n",
    "#X\n",
    "y\n"
   ]
  },
  {
   "cell_type": "code",
   "execution_count": 8,
   "id": "023b6f81",
   "metadata": {},
   "outputs": [],
   "source": [
    "# split train & validation -> 80% training /20% testing\n",
    "X_train, X_test, y_train, y_test = train_test_split(X, y, test_size = 0.20, random_state = 0)"
   ]
  },
  {
   "cell_type": "code",
   "execution_count": 9,
   "id": "194b47c2",
   "metadata": {},
   "outputs": [
    {
     "data": {
      "text/plain": [
       "((139152, 9), (139152,))"
      ]
     },
     "execution_count": 9,
     "metadata": {},
     "output_type": "execute_result"
    }
   ],
   "source": [
    "# Check for dimensions\n",
    "X_test.shape, y_test.shape"
   ]
  },
  {
   "cell_type": "code",
   "execution_count": 10,
   "id": "47e7e302",
   "metadata": {},
   "outputs": [
    {
     "data": {
      "text/plain": [
       "((556608, 9), (556608,))"
      ]
     },
     "execution_count": 10,
     "metadata": {},
     "output_type": "execute_result"
    }
   ],
   "source": [
    "X_train.shape, y_train.shape"
   ]
  },
  {
   "cell_type": "markdown",
   "id": "2125668c",
   "metadata": {},
   "source": [
    "# 4. KNN"
   ]
  },
  {
   "cell_type": "code",
   "execution_count": 11,
   "id": "190b17a1",
   "metadata": {},
   "outputs": [],
   "source": [
    "# Scaling & preprocessing\n",
    "scaler = StandardScaler()\n",
    "X_train = scaler.fit_transform(X_train)\n",
    "X_test = scaler.transform(X_test)"
   ]
  },
  {
   "cell_type": "code",
   "execution_count": 17,
   "id": "69e3889a",
   "metadata": {},
   "outputs": [],
   "source": [
    "# find the best k\n",
    "k_values = [i for i in range (1,10)]\n",
    "scores = []\n",
    "\n",
    "for k in k_values:\n",
    "    knn = KNeighborsClassifier(n_neighbors=k)\n",
    "    score = cross_val_score(knn, X_train, y_train, cv=5)\n",
    "    scores.append(np.mean(score))\n",
    "    \n",
    "#best_index = np.argmax(scores)\n",
    "#best_k = k_values[best_index]"
   ]
  },
  {
   "cell_type": "code",
   "execution_count": 12,
   "id": "2f5bb059",
   "metadata": {},
   "outputs": [
    {
     "data": {
      "text/html": [
       "<style>#sk-container-id-1 {color: black;}#sk-container-id-1 pre{padding: 0;}#sk-container-id-1 div.sk-toggleable {background-color: white;}#sk-container-id-1 label.sk-toggleable__label {cursor: pointer;display: block;width: 100%;margin-bottom: 0;padding: 0.3em;box-sizing: border-box;text-align: center;}#sk-container-id-1 label.sk-toggleable__label-arrow:before {content: \"▸\";float: left;margin-right: 0.25em;color: #696969;}#sk-container-id-1 label.sk-toggleable__label-arrow:hover:before {color: black;}#sk-container-id-1 div.sk-estimator:hover label.sk-toggleable__label-arrow:before {color: black;}#sk-container-id-1 div.sk-toggleable__content {max-height: 0;max-width: 0;overflow: hidden;text-align: left;background-color: #f0f8ff;}#sk-container-id-1 div.sk-toggleable__content pre {margin: 0.2em;color: black;border-radius: 0.25em;background-color: #f0f8ff;}#sk-container-id-1 input.sk-toggleable__control:checked~div.sk-toggleable__content {max-height: 200px;max-width: 100%;overflow: auto;}#sk-container-id-1 input.sk-toggleable__control:checked~label.sk-toggleable__label-arrow:before {content: \"▾\";}#sk-container-id-1 div.sk-estimator input.sk-toggleable__control:checked~label.sk-toggleable__label {background-color: #d4ebff;}#sk-container-id-1 div.sk-label input.sk-toggleable__control:checked~label.sk-toggleable__label {background-color: #d4ebff;}#sk-container-id-1 input.sk-hidden--visually {border: 0;clip: rect(1px 1px 1px 1px);clip: rect(1px, 1px, 1px, 1px);height: 1px;margin: -1px;overflow: hidden;padding: 0;position: absolute;width: 1px;}#sk-container-id-1 div.sk-estimator {font-family: monospace;background-color: #f0f8ff;border: 1px dotted black;border-radius: 0.25em;box-sizing: border-box;margin-bottom: 0.5em;}#sk-container-id-1 div.sk-estimator:hover {background-color: #d4ebff;}#sk-container-id-1 div.sk-parallel-item::after {content: \"\";width: 100%;border-bottom: 1px solid gray;flex-grow: 1;}#sk-container-id-1 div.sk-label:hover label.sk-toggleable__label {background-color: #d4ebff;}#sk-container-id-1 div.sk-serial::before {content: \"\";position: absolute;border-left: 1px solid gray;box-sizing: border-box;top: 0;bottom: 0;left: 50%;z-index: 0;}#sk-container-id-1 div.sk-serial {display: flex;flex-direction: column;align-items: center;background-color: white;padding-right: 0.2em;padding-left: 0.2em;position: relative;}#sk-container-id-1 div.sk-item {position: relative;z-index: 1;}#sk-container-id-1 div.sk-parallel {display: flex;align-items: stretch;justify-content: center;background-color: white;position: relative;}#sk-container-id-1 div.sk-item::before, #sk-container-id-1 div.sk-parallel-item::before {content: \"\";position: absolute;border-left: 1px solid gray;box-sizing: border-box;top: 0;bottom: 0;left: 50%;z-index: -1;}#sk-container-id-1 div.sk-parallel-item {display: flex;flex-direction: column;z-index: 1;position: relative;background-color: white;}#sk-container-id-1 div.sk-parallel-item:first-child::after {align-self: flex-end;width: 50%;}#sk-container-id-1 div.sk-parallel-item:last-child::after {align-self: flex-start;width: 50%;}#sk-container-id-1 div.sk-parallel-item:only-child::after {width: 0;}#sk-container-id-1 div.sk-dashed-wrapped {border: 1px dashed gray;margin: 0 0.4em 0.5em 0.4em;box-sizing: border-box;padding-bottom: 0.4em;background-color: white;}#sk-container-id-1 div.sk-label label {font-family: monospace;font-weight: bold;display: inline-block;line-height: 1.2em;}#sk-container-id-1 div.sk-label-container {text-align: center;}#sk-container-id-1 div.sk-container {/* jupyter's `normalize.less` sets `[hidden] { display: none; }` but bootstrap.min.css set `[hidden] { display: none !important; }` so we also need the `!important` here to be able to override the default hidden behavior on the sphinx rendered scikit-learn.org. See: https://github.com/scikit-learn/scikit-learn/issues/21755 */display: inline-block !important;position: relative;}#sk-container-id-1 div.sk-text-repr-fallback {display: none;}</style><div id=\"sk-container-id-1\" class=\"sk-top-container\"><div class=\"sk-text-repr-fallback\"><pre>KNeighborsClassifier(n_neighbors=8)</pre><b>In a Jupyter environment, please rerun this cell to show the HTML representation or trust the notebook. <br />On GitHub, the HTML representation is unable to render, please try loading this page with nbviewer.org.</b></div><div class=\"sk-container\" hidden><div class=\"sk-item\"><div class=\"sk-estimator sk-toggleable\"><input class=\"sk-toggleable__control sk-hidden--visually\" id=\"sk-estimator-id-1\" type=\"checkbox\" checked><label for=\"sk-estimator-id-1\" class=\"sk-toggleable__label sk-toggleable__label-arrow\">KNeighborsClassifier</label><div class=\"sk-toggleable__content\"><pre>KNeighborsClassifier(n_neighbors=8)</pre></div></div></div></div></div>"
      ],
      "text/plain": [
       "KNeighborsClassifier(n_neighbors=8)"
      ]
     },
     "execution_count": 12,
     "metadata": {},
     "output_type": "execute_result"
    }
   ],
   "source": [
    "knn = KNeighborsClassifier(n_neighbors=8)\n",
    "knn.fit(X_train, y_train)"
   ]
  },
  {
   "cell_type": "code",
   "execution_count": null,
   "id": "1b9bae81",
   "metadata": {},
   "outputs": [],
   "source": [
    "#train_accuracy = knn.score(X_train, y_train) \n",
    "#test_accuracy = knn.score(X_test, y_test)\n",
    "#print(f\"Train Accuracy: {train_accuracy:.2f}\")\n",
    "#print(f\"Test Accuracy: {train_accuracy:.2f}\")"
   ]
  },
  {
   "cell_type": "code",
   "execution_count": 13,
   "id": "2c14edb5",
   "metadata": {},
   "outputs": [],
   "source": [
    "y_pred = knn.predict(X_test)"
   ]
  },
  {
   "cell_type": "code",
   "execution_count": 14,
   "id": "855dd430",
   "metadata": {},
   "outputs": [
    {
     "name": "stdout",
     "output_type": "stream",
     "text": [
      "Accuracy KNN: 0.86\n",
      "Precision KNN: 0.88\n",
      "Recall KNN: 0.80\n"
     ]
    }
   ],
   "source": [
    "# AUC and ROC curves, conusion matrix, decision trees, etc\n",
    "cm_knn = confusion_matrix(y_test, y_pred)\n",
    "accuracy_knn = accuracy_score(y_test, y_pred)\n",
    "precision_knn = precision_score(y_test, y_pred)\n",
    "recall_knn = recall_score(y_test, y_pred)\n",
    "\n",
    "print(f\"Accuracy KNN: {accuracy_knn:.2f}\")\n",
    "print(f\"Precision KNN: {precision_knn:.2f}\")\n",
    "print(f\"Recall KNN: {recall_knn:.2f}\")"
   ]
  },
  {
   "cell_type": "code",
   "execution_count": 15,
   "id": "32258b47",
   "metadata": {},
   "outputs": [
    {
     "data": {
      "text/plain": [
       "<Figure size 864x720 with 0 Axes>"
      ]
     },
     "metadata": {},
     "output_type": "display_data"
    },
    {
     "data": {
      "image/png": "[encoded data removed]",
      "text/plain": [
       "<Figure size 432x288 with 2 Axes>"
      ]
     },
     "metadata": {
      "needs_background": "light"
     },
     "output_type": "display_data"
    }
   ],
   "source": [
    "plt.figure(figsize=(12, 10))\n",
    "disp = ConfusionMatrixDisplay(confusion_matrix=cm_knn)\n",
    "disp.plot(cmap='viridis')\n",
    "plt.savefig(\"Confusion matrix_KNN.jpg\")"
   ]
  },
  {
   "cell_type": "code",
   "execution_count": null,
   "id": "79b64e2f",
   "metadata": {},
   "outputs": [],
   "source": []
  },
  {
   "cell_type": "code",
   "execution_count": null,
   "id": "417a9dd8",
   "metadata": {},
   "outputs": [],
   "source": []
  },
  {
   "cell_type": "markdown",
   "id": "ad42c600",
   "metadata": {},
   "source": [
    "# Sources\n",
    "KNN: \n",
    "- https://www.analyticsvidhya.com/blog/2021/01/a-quick-introduction-to-k-nearest-neighbor-knn-classification-using-python/#:~:text=The%20KNN%20classifier%20in%20Python,group%20of%20neighboring%20data%20points.\n",
    "- https://www.geeksforgeeks.org/k-nearest-neighbor-algorithm-in-python/\n",
    "- https://www.datacamp.com/tutorial/k-nearest-neighbor-classification-scikit-learn\n",
    "\n",
    "Confusion matrix:\n",
    "- https://accessibleai.dev/post/interpreting_confusion_matrixes/\n"
   ]
  },
  {
   "cell_type": "code",
   "execution_count": null,
   "id": "37b20b72",
   "metadata": {},
   "outputs": [],
   "source": []
  }
 ],
 "metadata": {
  "kernelspec": {
   "display_name": "Python 3 (ipykernel)",
   "language": "python",
   "name": "python3"
  },
  "language_info": {
   "codemirror_mode": {
    "name": "ipython",
    "version": 3
   },
   "file_extension": ".py",
   "mimetype": "text/x-python",
   "name": "python",
   "nbconvert_exporter": "python",
   "pygments_lexer": "ipython3",
   "version": "3.8.10"
  }
 },
 "nbformat": 4,
 "nbformat_minor": 5
}
